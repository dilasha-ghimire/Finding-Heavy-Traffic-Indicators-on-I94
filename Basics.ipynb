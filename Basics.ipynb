{
 "cells": [
  {
   "cell_type": "markdown",
   "id": "c64fedc4",
   "metadata": {},
   "source": [
    "# Indicators of Heavy Traffic on I-94"
   ]
  },
  {
   "cell_type": "markdown",
   "id": "09896583",
   "metadata": {},
   "source": [
    "The project focused on analyzing a dataset related to westbound traffic on the [I-94 Interstate highway](https://en.wikipedia.org/wiki/Interstate_94).\n",
    "\n",
    "The main objective of the analysis was to identify several indicators that could explain heavy traffic on I-94. These indicators were expected to include factors such as weather conditions, time of day, and time of the week."
   ]
  },
  {
   "cell_type": "markdown",
   "id": "3988a30f",
   "metadata": {},
   "source": [
    "## The I-94 Traffic Dataset"
   ]
  },
  {
   "cell_type": "markdown",
   "id": "31b883c5",
   "metadata": {},
   "source": [
    "The dataset used for the analysis was made available by John Hogue and could be downloaded from the [UCI Machine Learning Repository](https://archive.ics.uci.edu/ml/datasets/Metro+Interstate+Traffic+Volume)."
   ]
  },
  {
   "cell_type": "markdown",
   "id": "e5e80a0a",
   "metadata": {},
   "source": [
    "### Importing required libraries"
   ]
  },
  {
   "cell_type": "code",
   "execution_count": 17,
   "id": "e66ddbb5",
   "metadata": {},
   "outputs": [],
   "source": [
    "import pandas as pd \n",
    "# pandas is a powerful data manipulation library\n",
    "import matplotlib.pyplot as plt\n",
    "# matplotlib is used for plotting graphs\n",
    "import seaborn as sns\n",
    "# seaborn is a statistical data visualization library built on top of matplotlib"
   ]
  },
  {
   "cell_type": "markdown",
   "id": "b8c8cde7",
   "metadata": {},
   "source": [
    "### Storing CSV in a DataFrame"
   ]
  },
  {
   "cell_type": "code",
   "execution_count": 18,
   "id": "1a2b7aa0",
   "metadata": {},
   "outputs": [],
   "source": [
    "traffic = pd.read_csv(\"Metro_Interstate_Traffic_Volume.csv\")"
   ]
  },
  {
   "cell_type": "markdown",
   "id": "765b5d0a",
   "metadata": {},
   "source": [
    "### Take a peak of the dataset"
   ]
  },
  {
   "cell_type": "code",
   "execution_count": 19,
   "id": "a960d8e9",
   "metadata": {},
   "outputs": [
    {
     "data": {
      "text/html": [
       "<div>\n",
       "<style scoped>\n",
       "    .dataframe tbody tr th:only-of-type {\n",
       "        vertical-align: middle;\n",
       "    }\n",
       "\n",
       "    .dataframe tbody tr th {\n",
       "        vertical-align: top;\n",
       "    }\n",
       "\n",
       "    .dataframe thead th {\n",
       "        text-align: right;\n",
       "    }\n",
       "</style>\n",
       "<table border=\"1\" class=\"dataframe\">\n",
       "  <thead>\n",
       "    <tr style=\"text-align: right;\">\n",
       "      <th></th>\n",
       "      <th>holiday</th>\n",
       "      <th>temp</th>\n",
       "      <th>rain_1h</th>\n",
       "      <th>snow_1h</th>\n",
       "      <th>clouds_all</th>\n",
       "      <th>weather_main</th>\n",
       "      <th>weather_description</th>\n",
       "      <th>date_time</th>\n",
       "      <th>traffic_volume</th>\n",
       "    </tr>\n",
       "  </thead>\n",
       "  <tbody>\n",
       "    <tr>\n",
       "      <th>0</th>\n",
       "      <td>NaN</td>\n",
       "      <td>288.28</td>\n",
       "      <td>0.0</td>\n",
       "      <td>0.0</td>\n",
       "      <td>40</td>\n",
       "      <td>Clouds</td>\n",
       "      <td>scattered clouds</td>\n",
       "      <td>2012-10-02 09:00:00</td>\n",
       "      <td>5545</td>\n",
       "    </tr>\n",
       "    <tr>\n",
       "      <th>1</th>\n",
       "      <td>NaN</td>\n",
       "      <td>289.36</td>\n",
       "      <td>0.0</td>\n",
       "      <td>0.0</td>\n",
       "      <td>75</td>\n",
       "      <td>Clouds</td>\n",
       "      <td>broken clouds</td>\n",
       "      <td>2012-10-02 10:00:00</td>\n",
       "      <td>4516</td>\n",
       "    </tr>\n",
       "    <tr>\n",
       "      <th>2</th>\n",
       "      <td>NaN</td>\n",
       "      <td>289.58</td>\n",
       "      <td>0.0</td>\n",
       "      <td>0.0</td>\n",
       "      <td>90</td>\n",
       "      <td>Clouds</td>\n",
       "      <td>overcast clouds</td>\n",
       "      <td>2012-10-02 11:00:00</td>\n",
       "      <td>4767</td>\n",
       "    </tr>\n",
       "    <tr>\n",
       "      <th>3</th>\n",
       "      <td>NaN</td>\n",
       "      <td>290.13</td>\n",
       "      <td>0.0</td>\n",
       "      <td>0.0</td>\n",
       "      <td>90</td>\n",
       "      <td>Clouds</td>\n",
       "      <td>overcast clouds</td>\n",
       "      <td>2012-10-02 12:00:00</td>\n",
       "      <td>5026</td>\n",
       "    </tr>\n",
       "    <tr>\n",
       "      <th>4</th>\n",
       "      <td>NaN</td>\n",
       "      <td>291.14</td>\n",
       "      <td>0.0</td>\n",
       "      <td>0.0</td>\n",
       "      <td>75</td>\n",
       "      <td>Clouds</td>\n",
       "      <td>broken clouds</td>\n",
       "      <td>2012-10-02 13:00:00</td>\n",
       "      <td>4918</td>\n",
       "    </tr>\n",
       "  </tbody>\n",
       "</table>\n",
       "</div>"
      ],
      "text/plain": [
       "  holiday    temp  rain_1h  snow_1h  clouds_all weather_main  \\\n",
       "0     NaN  288.28      0.0      0.0          40       Clouds   \n",
       "1     NaN  289.36      0.0      0.0          75       Clouds   \n",
       "2     NaN  289.58      0.0      0.0          90       Clouds   \n",
       "3     NaN  290.13      0.0      0.0          90       Clouds   \n",
       "4     NaN  291.14      0.0      0.0          75       Clouds   \n",
       "\n",
       "  weather_description            date_time  traffic_volume  \n",
       "0    scattered clouds  2012-10-02 09:00:00            5545  \n",
       "1       broken clouds  2012-10-02 10:00:00            4516  \n",
       "2     overcast clouds  2012-10-02 11:00:00            4767  \n",
       "3     overcast clouds  2012-10-02 12:00:00            5026  \n",
       "4       broken clouds  2012-10-02 13:00:00            4918  "
      ]
     },
     "execution_count": 19,
     "metadata": {},
     "output_type": "execute_result"
    }
   ],
   "source": [
    "traffic.head()"
   ]
  },
  {
   "cell_type": "code",
   "execution_count": 20,
   "id": "a60931a6",
   "metadata": {},
   "outputs": [
    {
     "data": {
      "text/html": [
       "<div>\n",
       "<style scoped>\n",
       "    .dataframe tbody tr th:only-of-type {\n",
       "        vertical-align: middle;\n",
       "    }\n",
       "\n",
       "    .dataframe tbody tr th {\n",
       "        vertical-align: top;\n",
       "    }\n",
       "\n",
       "    .dataframe thead th {\n",
       "        text-align: right;\n",
       "    }\n",
       "</style>\n",
       "<table border=\"1\" class=\"dataframe\">\n",
       "  <thead>\n",
       "    <tr style=\"text-align: right;\">\n",
       "      <th></th>\n",
       "      <th>holiday</th>\n",
       "      <th>temp</th>\n",
       "      <th>rain_1h</th>\n",
       "      <th>snow_1h</th>\n",
       "      <th>clouds_all</th>\n",
       "      <th>weather_main</th>\n",
       "      <th>weather_description</th>\n",
       "      <th>date_time</th>\n",
       "      <th>traffic_volume</th>\n",
       "    </tr>\n",
       "  </thead>\n",
       "  <tbody>\n",
       "    <tr>\n",
       "      <th>48199</th>\n",
       "      <td>NaN</td>\n",
       "      <td>283.45</td>\n",
       "      <td>0.0</td>\n",
       "      <td>0.0</td>\n",
       "      <td>75</td>\n",
       "      <td>Clouds</td>\n",
       "      <td>broken clouds</td>\n",
       "      <td>2018-09-30 19:00:00</td>\n",
       "      <td>3543</td>\n",
       "    </tr>\n",
       "    <tr>\n",
       "      <th>48200</th>\n",
       "      <td>NaN</td>\n",
       "      <td>282.76</td>\n",
       "      <td>0.0</td>\n",
       "      <td>0.0</td>\n",
       "      <td>90</td>\n",
       "      <td>Clouds</td>\n",
       "      <td>overcast clouds</td>\n",
       "      <td>2018-09-30 20:00:00</td>\n",
       "      <td>2781</td>\n",
       "    </tr>\n",
       "    <tr>\n",
       "      <th>48201</th>\n",
       "      <td>NaN</td>\n",
       "      <td>282.73</td>\n",
       "      <td>0.0</td>\n",
       "      <td>0.0</td>\n",
       "      <td>90</td>\n",
       "      <td>Thunderstorm</td>\n",
       "      <td>proximity thunderstorm</td>\n",
       "      <td>2018-09-30 21:00:00</td>\n",
       "      <td>2159</td>\n",
       "    </tr>\n",
       "    <tr>\n",
       "      <th>48202</th>\n",
       "      <td>NaN</td>\n",
       "      <td>282.09</td>\n",
       "      <td>0.0</td>\n",
       "      <td>0.0</td>\n",
       "      <td>90</td>\n",
       "      <td>Clouds</td>\n",
       "      <td>overcast clouds</td>\n",
       "      <td>2018-09-30 22:00:00</td>\n",
       "      <td>1450</td>\n",
       "    </tr>\n",
       "    <tr>\n",
       "      <th>48203</th>\n",
       "      <td>NaN</td>\n",
       "      <td>282.12</td>\n",
       "      <td>0.0</td>\n",
       "      <td>0.0</td>\n",
       "      <td>90</td>\n",
       "      <td>Clouds</td>\n",
       "      <td>overcast clouds</td>\n",
       "      <td>2018-09-30 23:00:00</td>\n",
       "      <td>954</td>\n",
       "    </tr>\n",
       "  </tbody>\n",
       "</table>\n",
       "</div>"
      ],
      "text/plain": [
       "      holiday    temp  rain_1h  snow_1h  clouds_all  weather_main  \\\n",
       "48199     NaN  283.45      0.0      0.0          75        Clouds   \n",
       "48200     NaN  282.76      0.0      0.0          90        Clouds   \n",
       "48201     NaN  282.73      0.0      0.0          90  Thunderstorm   \n",
       "48202     NaN  282.09      0.0      0.0          90        Clouds   \n",
       "48203     NaN  282.12      0.0      0.0          90        Clouds   \n",
       "\n",
       "          weather_description            date_time  traffic_volume  \n",
       "48199           broken clouds  2018-09-30 19:00:00            3543  \n",
       "48200         overcast clouds  2018-09-30 20:00:00            2781  \n",
       "48201  proximity thunderstorm  2018-09-30 21:00:00            2159  \n",
       "48202         overcast clouds  2018-09-30 22:00:00            1450  \n",
       "48203         overcast clouds  2018-09-30 23:00:00             954  "
      ]
     },
     "execution_count": 20,
     "metadata": {},
     "output_type": "execute_result"
    }
   ],
   "source": [
    "traffic.tail()"
   ]
  },
  {
   "cell_type": "code",
   "execution_count": 21,
   "id": "8493a6d0",
   "metadata": {},
   "outputs": [
    {
     "name": "stdout",
     "output_type": "stream",
     "text": [
      "<class 'pandas.core.frame.DataFrame'>\n",
      "RangeIndex: 48204 entries, 0 to 48203\n",
      "Data columns (total 9 columns):\n",
      " #   Column               Non-Null Count  Dtype  \n",
      "---  ------               --------------  -----  \n",
      " 0   holiday              61 non-null     object \n",
      " 1   temp                 48204 non-null  float64\n",
      " 2   rain_1h              48204 non-null  float64\n",
      " 3   snow_1h              48204 non-null  float64\n",
      " 4   clouds_all           48204 non-null  int64  \n",
      " 5   weather_main         48204 non-null  object \n",
      " 6   weather_description  48204 non-null  object \n",
      " 7   date_time            48204 non-null  object \n",
      " 8   traffic_volume       48204 non-null  int64  \n",
      "dtypes: float64(3), int64(2), object(4)\n",
      "memory usage: 3.3+ MB\n"
     ]
    }
   ],
   "source": [
    "traffic.info()"
   ]
  },
  {
   "cell_type": "markdown",
   "id": "d5f809d4",
   "metadata": {},
   "source": [
    "`info()` shows summary of the data in one snapshot."
   ]
  },
  {
   "cell_type": "markdown",
   "id": "56a375dd",
   "metadata": {},
   "source": [
    "The dataset contains 48,204 rows and 9 columns, where each row represents traffic and weather information recorded for a specific hour. The data covers the period from October 2, 2012, at 09:00:00 to September 30, 2018, at 23:00:00. \n",
    "\n",
    "According to the [dataset documentation](https://archive.ics.uci.edu/ml/datasets/Metro+Interstate+Traffic+Volume), the traffic data was collected from a station situated approximately midway between Minneapolis and Saint Paul. At this station, the route direction is westbound, meaning it records vehicles moving from east to west. Therefore, the analysis results are expected to describe westbound traffic near this station, and it is advisable not to generalize the findings to the entire I-94 highway."
   ]
  },
  {
   "cell_type": "markdown",
   "id": "d6d33566",
   "metadata": {},
   "source": [
    "### Trying to figure out what the dataset tells us"
   ]
  },
  {
   "cell_type": "code",
   "execution_count": 22,
   "id": "d10cf15c",
   "metadata": {},
   "outputs": [
    {
     "data": {
      "text/plain": [
       "holiday\n",
       "Labor Day                    7\n",
       "Christmas Day                6\n",
       "Thanksgiving Day             6\n",
       "Martin Luther King Jr Day    6\n",
       "New Years Day                6\n",
       "Veterans Day                 5\n",
       "Columbus Day                 5\n",
       "Memorial Day                 5\n",
       "Washingtons Birthday         5\n",
       "State Fair                   5\n",
       "Independence Day             5\n",
       "Name: count, dtype: int64"
      ]
     },
     "execution_count": 22,
     "metadata": {},
     "output_type": "execute_result"
    }
   ],
   "source": [
    "traffic['holiday'].value_counts()"
   ]
  },
  {
   "cell_type": "code",
   "execution_count": 23,
   "id": "a10ec3df",
   "metadata": {},
   "outputs": [
    {
     "data": {
      "text/html": [
       "<div>\n",
       "<style scoped>\n",
       "    .dataframe tbody tr th:only-of-type {\n",
       "        vertical-align: middle;\n",
       "    }\n",
       "\n",
       "    .dataframe tbody tr th {\n",
       "        vertical-align: top;\n",
       "    }\n",
       "\n",
       "    .dataframe thead th {\n",
       "        text-align: right;\n",
       "    }\n",
       "</style>\n",
       "<table border=\"1\" class=\"dataframe\">\n",
       "  <thead>\n",
       "    <tr style=\"text-align: right;\">\n",
       "      <th></th>\n",
       "      <th>temp</th>\n",
       "      <th>rain_1h</th>\n",
       "      <th>snow_1h</th>\n",
       "      <th>clouds_all</th>\n",
       "      <th>traffic_volume</th>\n",
       "    </tr>\n",
       "  </thead>\n",
       "  <tbody>\n",
       "    <tr>\n",
       "      <th>count</th>\n",
       "      <td>48204.000000</td>\n",
       "      <td>48204.000000</td>\n",
       "      <td>48204.000000</td>\n",
       "      <td>48204.000000</td>\n",
       "      <td>48204.000000</td>\n",
       "    </tr>\n",
       "    <tr>\n",
       "      <th>mean</th>\n",
       "      <td>281.205870</td>\n",
       "      <td>0.334264</td>\n",
       "      <td>0.000222</td>\n",
       "      <td>49.362231</td>\n",
       "      <td>3259.818355</td>\n",
       "    </tr>\n",
       "    <tr>\n",
       "      <th>std</th>\n",
       "      <td>13.338232</td>\n",
       "      <td>44.789133</td>\n",
       "      <td>0.008168</td>\n",
       "      <td>39.015750</td>\n",
       "      <td>1986.860670</td>\n",
       "    </tr>\n",
       "    <tr>\n",
       "      <th>min</th>\n",
       "      <td>0.000000</td>\n",
       "      <td>0.000000</td>\n",
       "      <td>0.000000</td>\n",
       "      <td>0.000000</td>\n",
       "      <td>0.000000</td>\n",
       "    </tr>\n",
       "    <tr>\n",
       "      <th>25%</th>\n",
       "      <td>272.160000</td>\n",
       "      <td>0.000000</td>\n",
       "      <td>0.000000</td>\n",
       "      <td>1.000000</td>\n",
       "      <td>1193.000000</td>\n",
       "    </tr>\n",
       "    <tr>\n",
       "      <th>50%</th>\n",
       "      <td>282.450000</td>\n",
       "      <td>0.000000</td>\n",
       "      <td>0.000000</td>\n",
       "      <td>64.000000</td>\n",
       "      <td>3380.000000</td>\n",
       "    </tr>\n",
       "    <tr>\n",
       "      <th>75%</th>\n",
       "      <td>291.806000</td>\n",
       "      <td>0.000000</td>\n",
       "      <td>0.000000</td>\n",
       "      <td>90.000000</td>\n",
       "      <td>4933.000000</td>\n",
       "    </tr>\n",
       "    <tr>\n",
       "      <th>max</th>\n",
       "      <td>310.070000</td>\n",
       "      <td>9831.300000</td>\n",
       "      <td>0.510000</td>\n",
       "      <td>100.000000</td>\n",
       "      <td>7280.000000</td>\n",
       "    </tr>\n",
       "  </tbody>\n",
       "</table>\n",
       "</div>"
      ],
      "text/plain": [
       "               temp       rain_1h       snow_1h    clouds_all  traffic_volume\n",
       "count  48204.000000  48204.000000  48204.000000  48204.000000    48204.000000\n",
       "mean     281.205870      0.334264      0.000222     49.362231     3259.818355\n",
       "std       13.338232     44.789133      0.008168     39.015750     1986.860670\n",
       "min        0.000000      0.000000      0.000000      0.000000        0.000000\n",
       "25%      272.160000      0.000000      0.000000      1.000000     1193.000000\n",
       "50%      282.450000      0.000000      0.000000     64.000000     3380.000000\n",
       "75%      291.806000      0.000000      0.000000     90.000000     4933.000000\n",
       "max      310.070000   9831.300000      0.510000    100.000000     7280.000000"
      ]
     },
     "execution_count": 23,
     "metadata": {},
     "output_type": "execute_result"
    }
   ],
   "source": [
    "traffic.describe()"
   ]
  },
  {
   "cell_type": "markdown",
   "id": "4ac643ff",
   "metadata": {},
   "source": [
    "## Exploratory visualization"
   ]
  },
  {
   "cell_type": "markdown",
   "id": "863be8ec",
   "metadata": {},
   "source": [
    "### Analyzing Traffic Volumes"
   ]
  },
  {
   "cell_type": "code",
   "execution_count": 24,
   "id": "108111cf",
   "metadata": {},
   "outputs": [
    {
     "data": {
      "image/png": "[encoded data removed]",
      "text/plain": [
       "<Figure size 640x480 with 1 Axes>"
      ]
     },
     "metadata": {},
     "output_type": "display_data"
    }
   ],
   "source": [
    "plt.hist(traffic['traffic_volume'])\n",
    "plt.xlabel('Traffic Volume')\n",
    "plt.title('Traffic Volume Distribution')\n",
    "plt.show()"
   ]
  },
  {
   "cell_type": "code",
   "execution_count": 25,
   "id": "81d0a807",
   "metadata": {},
   "outputs": [
    {
     "data": {
      "text/plain": [
       "count    48204.000000\n",
       "mean      3259.818355\n",
       "std       1986.860670\n",
       "min          0.000000\n",
       "25%       1193.000000\n",
       "50%       3380.000000\n",
       "75%       4933.000000\n",
       "max       7280.000000\n",
       "Name: traffic_volume, dtype: float64"
      ]
     },
     "execution_count": 25,
     "metadata": {},
     "output_type": "execute_result"
    }
   ],
   "source": [
    "traffic['traffic_volume'].describe()\n"
   ]
  },
  {
   "cell_type": "markdown",
   "id": "e071e3f1",
   "metadata": {},
   "source": [
    "Between October 2, 2012, at 09:00:00 and September 30, 2018, at 23:00:00, the hourly traffic volume was reported to range from 0 to 7,280 cars, with an average of about 3,260 cars. It was indicated that around 25 percent of the time, 1,193 cars or fewer passed the station each hour, which likely corresponds to nighttime periods or times when road construction was taking place. It was also noted that during another 25 percent of the time, the traffic volume was about four times higher, reaching 4,933 cars or more."
   ]
  },
  {
   "cell_type": "markdown",
   "id": "da903d6d",
   "metadata": {},
   "source": [
    "### Traffic Volume: Day vs. Night"
   ]
  },
  {
   "cell_type": "markdown",
   "id": "7c532282",
   "metadata": {},
   "source": [
    "The dataset was divided into two parts. Daytime data was defined as the hours from 7 AM to 7 PM, spanning 12 hours, while nighttime data was defined as the hours from 7 PM to 7 AM, also spanning 12 hours. The division does not perfectly distinguish between day and night, but it serves as a reasonable starting point."
   ]
  },
  {
   "cell_type": "code",
   "execution_count": 26,
   "id": "a9afdb92",
   "metadata": {},
   "outputs": [
    {
     "name": "stdout",
     "output_type": "stream",
     "text": [
      "(23877, 9)\n",
      "(24327, 9)\n"
     ]
    }
   ],
   "source": [
    "traffic['date_time'] = pd.to_datetime(traffic['date_time'])\n",
    "\n",
    "day = traffic.copy()[(traffic['date_time'].dt.hour >= 7) & (traffic['date_time'].dt.hour < 19)]\n",
    "print(day.shape)\n",
    "\n",
    "night = traffic.copy()[(traffic['date_time'].dt.hour >= 19) | (traffic['date_time'].dt.hour < 7)]\n",
    "print(night.shape)"
   ]
  },
  {
   "cell_type": "markdown",
   "id": "d994d516",
   "metadata": {},
   "source": [
    "### Traffic Volume: Day vs. Night (II)"
   ]
  },
  {
   "cell_type": "markdown",
   "id": "5843c062",
   "metadata": {},
   "source": [
    "After separating the data into day and night, the traffic volume histograms were analyzed side by side using a grid chart."
   ]
  },
  {
   "cell_type": "code",
   "execution_count": 27,
   "id": "60076a79",
   "metadata": {},
   "outputs": [
    {
     "data": {
      "image/png": "[encoded data removed]",
      "text/plain": [
       "<Figure size 1100x400 with 2 Axes>"
      ]
     },
     "metadata": {},
     "output_type": "display_data"
    }
   ],
   "source": [
    "plt.figure(figsize=(11,4))\n",
    "\n",
    "plt.subplot(1, 2, 1)\n",
    "plt.hist(day['traffic_volume'])\n",
    "plt.xlim(-100, 7500)\n",
    "plt.ylim(0, 8000)\n",
    "plt.title('Traffic Volume: Day')\n",
    "plt.ylabel('Frequency')\n",
    "plt.xlabel('Traffic Volume')\n",
    "\n",
    "plt.subplot(1, 2, 2)\n",
    "plt.hist(night['traffic_volume'])\n",
    "plt.xlim(-100, 7500)\n",
    "plt.ylim(0, 8000)\n",
    "plt.title('Traffic Volume: Night')\n",
    "plt.ylabel('Frequency')\n",
    "plt.xlabel('Traffic Volume')\n",
    "\n",
    "plt.show()"
   ]
  },
  {
   "cell_type": "code",
   "execution_count": 28,
   "id": "64b2dfd5",
   "metadata": {},
   "outputs": [
    {
     "data": {
      "text/plain": [
       "count    23877.000000\n",
       "mean      4762.047452\n",
       "std       1174.546482\n",
       "min          0.000000\n",
       "25%       4252.000000\n",
       "50%       4820.000000\n",
       "75%       5559.000000\n",
       "max       7280.000000\n",
       "Name: traffic_volume, dtype: float64"
      ]
     },
     "execution_count": 28,
     "metadata": {},
     "output_type": "execute_result"
    }
   ],
   "source": [
    "day['traffic_volume'].describe()"
   ]
  },
  {
   "cell_type": "code",
   "execution_count": 29,
   "id": "b7ed241d",
   "metadata": {},
   "outputs": [
    {
     "data": {
      "text/plain": [
       "count    24327.000000\n",
       "mean      1785.377441\n",
       "std       1441.951197\n",
       "min          0.000000\n",
       "25%        530.000000\n",
       "50%       1287.000000\n",
       "75%       2819.000000\n",
       "max       6386.000000\n",
       "Name: traffic_volume, dtype: float64"
      ]
     },
     "execution_count": 29,
     "metadata": {},
     "output_type": "execute_result"
    }
   ],
   "source": [
    "night['traffic_volume'].describe()"
   ]
  },
  {
   "cell_type": "markdown",
   "id": "96758d69",
   "metadata": {},
   "source": [
    "The histogram for daytime traffic volume was found to be left skewed, indicating that most traffic volumes were high. It was observed that 75 percent of the time, 4,252 or more cars passed the station each hour, since only 25 percent of the values were below 4,252.\n",
    "\n",
    "In contrast, the histogram for nighttime traffic volume showed a right-skewed distribution, meaning most traffic values were low. It was noted that 75 percent of the time, fewer than 2,819 cars passed the station each hour.\n",
    "\n",
    "Although there were still instances where traffic exceeded 5,000 cars per hour during the night, the overall nighttime traffic level was generally light. Since the objective was to identify indicators of heavy traffic, the analysis continued by focusing exclusively on the daytime data."
   ]
  },
  {
   "cell_type": "markdown",
   "id": "8978e8b9",
   "metadata": {},
   "source": [
    "### Time Indicators"
   ]
  },
  {
   "cell_type": "markdown",
   "id": "89ea2142",
   "metadata": {},
   "source": [
    "One potential indicator of heavy traffic was considered to be time. It was suggested that traffic levels might increase during certain months, on specific days of the week, or at particular hours of the day.\n",
    "\n",
    "To investigate this, several line plots were planned in order to examine how traffic volume varied by month, by day of the week, and by time of day."
   ]
  },
  {
   "cell_type": "code",
   "execution_count": 33,
   "id": "63ef2a93",
   "metadata": {},
   "outputs": [
    {
     "data": {
      "image/png": "[encoded data removed]",
      "text/plain": [
       "<Figure size 640x480 with 1 Axes>"
      ]
     },
     "metadata": {},
     "output_type": "display_data"
    }
   ],
   "source": [
    "day['month'] = day['date_time'].dt.month\n",
    "by_month = day.groupby('month').mean(numeric_only=True)\n",
    "plt.plot(by_month['traffic_volume'], marker='o')\n",
    "plt.title('Daytime Traffic Volume by Month')\n",
    "plt.xlabel('Month')\n",
    "plt.ylabel('Traffic Volume')\n",
    "plt.show()"
   ]
  },
  {
   "cell_type": "markdown",
   "id": "da946daf",
   "metadata": {},
   "source": [
    "Traffic appeared to be lighter during the colder months from November to February and heavier during the warmer months from March to October, with one notable exception: July. This raised the question of whether there was something particular about July and whether traffic during this month was consistently lower each year.\n",
    "\n",
    "To explore this, the next step involved examining how traffic volume changed each year in July."
   ]
  },
  {
   "cell_type": "code",
   "execution_count": 34,
   "id": "c5eea5b1",
   "metadata": {},
   "outputs": [
    {
     "data": {
      "image/png": "[encoded data removed]",
      "text/plain": [
       "<Figure size 640x480 with 1 Axes>"
      ]
     },
     "metadata": {},
     "output_type": "display_data"
    }
   ],
   "source": [
    "day['year'] = day['date_time'].dt.year\n",
    "only_july = day[day['month'] == 7]\n",
    "plt.plot(only_july.groupby('year').mean(numeric_only=True)['traffic_volume'])\n",
    "plt.title('Daytime Traffic Volume in July by Year')\n",
    "plt.xlabel('Year')\n",
    "plt.ylabel('Traffic Volume')\n",
    "plt.show()"
   ]
  },
  {
   "cell_type": "markdown",
   "id": "377f8671",
   "metadata": {},
   "source": [
    "It was observed that traffic was generally heavy in July, similar to other warm months. The only noticeable exception was in 2016, when traffic volume dropped significantly. A possible explanation for this decline was road construction, and [an article from 2016](https://www.crainsdetroit.com/article/20160728/NEWS/160729841/weekend-construction-i-96-us-23-bridge-work-i-94-lane-closures-i-696) was cited as supporting evidence for this idea.\n",
    "\n",
    "As a provisional conclusion, it was suggested that warm months tend to show heavier traffic than cold months. During a warm month, the expected daytime traffic volume for each hour was estimated to be close to 5,000 cars."
   ]
  },
  {
   "cell_type": "markdown",
   "id": "52cafd24",
   "metadata": {},
   "source": [
    "### Time Indicators (II)"
   ]
  },
  {
   "cell_type": "code",
   "execution_count": 39,
   "id": "11147837",
   "metadata": {},
   "outputs": [
    {
     "data": {
      "image/png": "[encoded data removed]",
      "text/plain": [
       "<Figure size 640x480 with 1 Axes>"
      ]
     },
     "metadata": {},
     "output_type": "display_data"
    }
   ],
   "source": [
    "day['dayofweek'] = day['date_time'].dt.dayofweek\n",
    "by_dayofweek = day.groupby('dayofweek').mean(numeric_only=True)\n",
    "plt.plot(by_dayofweek['traffic_volume'])\n",
    "\n",
    "days = ['Mon', 'Tues', 'Wed', 'Thurs', 'Fri', 'Sat', 'Sun']\n",
    "plt.xticks(range(len(days)), days)\n",
    "\n",
    "plt.title('Daytime Traffic Volume by Day of the Week')\n",
    "plt.xlabel('Day of the Week')\n",
    "plt.ylabel('Traffic Volume')\n",
    "plt.show()"
   ]
  },
  {
   "cell_type": "markdown",
   "id": "9efa6d0f",
   "metadata": {},
   "source": [
    "It was observed that traffic volume was significantly heavier on business days from Monday to Friday. With the exception of Monday, values above 5,000 cars were seen only on business days. In contrast, traffic was lighter on weekends, where values generally stayed below 4,000 cars."
   ]
  }
 ],
 "metadata": {
  "kernelspec": {
   "display_name": "Python 3",
   "language": "python",
   "name": "python3"
  },
  "language_info": {
   "codemirror_mode": {
    "name": "ipython",
    "version": 3
   },
   "file_extension": ".py",
   "mimetype": "text/x-python",
   "name": "python",
   "nbconvert_exporter": "python",
   "pygments_lexer": "ipython3",
   "version": "3.13.3"
  }
 },
 "nbformat": 4,
 "nbformat_minor": 5
}
